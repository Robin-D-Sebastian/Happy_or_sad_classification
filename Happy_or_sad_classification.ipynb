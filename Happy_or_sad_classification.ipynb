{
  "nbformat": 4,
  "nbformat_minor": 0,
  "metadata": {
    "colab": {
      "name": "Happy_or_sad_classification.ipynb",
      "provenance": [],
      "collapsed_sections": [],
      "mount_file_id": "10cIdE3DYMt5ik-KBLCO77Kukp4Y1nt7M",
      "authorship_tag": "ABX9TyO+g9WCMmCbCsgOPmQaQ07s"
    },
    "kernelspec": {
      "name": "python3",
      "display_name": "Python 3"
    }
  },
  "cells": [
    {
      "cell_type": "code",
      "metadata": {
        "id": "rndVzCjWu3js"
      },
      "source": [
        "from tensorflow.keras.preprocessing.image import ImageDataGenerator\n",
        "#ImageDatagenerator = Will give label to the image automatically.\n",
        "\n",
        "from tensorflow.keras.preprocessing import image\n",
        "from tensorflow.keras.optimizers import RMSprop\n",
        "\n",
        "import matplotlib.pyplot as plt\n",
        "import tensorflow as tf\n",
        "import cv2\n",
        "import os\n",
        "import numpy as np \n",
        " "
      ],
      "execution_count": null,
      "outputs": []
    },
    {
      "cell_type": "code",
      "metadata": {
        "id": "HaE3yCqK2pVz"
      },
      "source": [
        "train = ImageDataGenerator(rescale = 1/255)\n",
        "validation = ImageDataGenerator(rescale = 1/255)"
      ],
      "execution_count": null,
      "outputs": []
    },
    {
      "cell_type": "code",
      "metadata": {
        "id": "EglAVvw_8aSK"
      },
      "source": [
        "from google.colab import drive\n",
        "drive.mount('/content/drive')"
      ],
      "execution_count": null,
      "outputs": []
    },
    {
      "cell_type": "code",
      "metadata": {
        "id": "OGAdqKLM3bgk"
      },
      "source": [
        "train_dataset = train.flow_from_directory('/content/drive/My Drive/Project/basedata/training', target_size = (200 , 200), batch_size = 3, class_mode = 'binary')\n",
        "\n",
        "validation_dataset = validation.flow_from_directory('/content/drive/My Drive/Project/basedata/validation', target_size = (200 , 200), batch_size = 3, class_mode = 'binary')"
      ],
      "execution_count": null,
      "outputs": []
    },
    {
      "cell_type": "code",
      "metadata": {
        "id": "euvAhLSi6g3O",
        "colab": {
          "base_uri": "https://localhost:8080/",
          "height": 34
        },
        "outputId": "63182bee-913f-4274-a5e8-1545f6a1794d"
      },
      "source": [
        "train_dataset.class_indices"
      ],
      "execution_count": null,
      "outputs": [
        {
          "output_type": "execute_result",
          "data": {
            "text/plain": [
              "{'happy': 0, 'not_happy': 1}"
            ]
          },
          "metadata": {
            "tags": []
          },
          "execution_count": 170
        }
      ]
    },
    {
      "cell_type": "code",
      "metadata": {
        "id": "RlR0-DHO-3bL"
      },
      "source": [
        "train_dataset.classes"
      ],
      "execution_count": null,
      "outputs": []
    },
    {
      "cell_type": "code",
      "metadata": {
        "id": "TyTA3U9yGYJT"
      },
      "source": [
        "import tensorflow as tf\n",
        "from tensorflow import keras\n",
        "from tensorflow.keras import layers"
      ],
      "execution_count": null,
      "outputs": []
    },
    {
      "cell_type": "code",
      "metadata": {
        "id": "MCupDOwB_6Jg"
      },
      "source": [
        "model = tf.keras.models.Sequential([ tf.keras.layers.Conv2D(16,(3,3), activation = 'relu', input_shape = (200,200,3)),\n",
        "                                    tf.keras.layers.MaxPool2D(2,2),\n",
        "                                    \n",
        "                                    tf.keras.layers.Conv2D(32,(3,3), activation = 'relu'),\n",
        "                                    tf.keras.layers.MaxPool2D(2,2),\n",
        "                                    \n",
        "                                    tf.keras.layers.Conv2D(64,(3,3), activation = 'relu'),\n",
        "                                    tf.keras.layers.MaxPool2D(2,2),\n",
        "                                                                           \n",
        "                                    tf.keras.layers.Flatten(),\n",
        "                                    \n",
        "                                    tf.keras.layers.Dense(512, activation='sigmoid'),\n",
        "                                    \n",
        "                                    tf.keras.layers.Dense(1, activation = 'sigmoid')\n",
        "                                    ]) "
      ],
      "execution_count": null,
      "outputs": []
    },
    {
      "cell_type": "code",
      "metadata": {
        "id": "-TOga1qfCDDL",
        "colab": {
          "base_uri": "https://localhost:8080/",
          "height": 34
        },
        "outputId": "f195317d-7652-40a3-f306-2ad408051199"
      },
      "source": [
        "model.compile(loss = 'binary_crossentropy',    #binary cross entropy because it is a special case of cross entropy working on only two classes.\n",
        "              optimizer = RMSprop(lr = 0.001),\n",
        "              metrics = ['accuracy'])\n",
        "\n",
        "model.compile\n"
      ],
      "execution_count": null,
      "outputs": [
        {
          "output_type": "execute_result",
          "data": {
            "text/plain": [
              "<bound method Model.compile of <tensorflow.python.keras.engine.sequential.Sequential object at 0x7fbf82a5c080>>"
            ]
          },
          "metadata": {
            "tags": []
          },
          "execution_count": 181
        }
      ]
    },
    {
      "cell_type": "code",
      "metadata": {
        "id": "SpNNI_K1DFCl"
      },
      "source": [
        "model.fit = model.fit(train_dataset,\n",
        "                      steps_per_epoch = 3,\n",
        "                      epochs = 50,\n",
        "                      validation_data = validation_dataset)"
      ],
      "execution_count": null,
      "outputs": []
    },
    {
      "cell_type": "code",
      "metadata": {
        "id": "7dzn9b71QZPA"
      },
      "source": [
        "dir_path = '/content/drive/My Drive/Project/basedata/testing'\n",
        "\n",
        "for  i in os.listdir(dir_path):\n",
        "  img = image.load_img(dir_path + '//'+ i, target_size = (200,200))\n",
        "  plt.imshow(img)\n",
        "  plt.show()\n",
        "\n",
        "  X = image.img_to_array(img)\n",
        "  X = np.expand_dims(X,axis =0)\n",
        "  images = np.vstack([X])\n",
        "\n",
        "  val = model.predict(images)\n",
        "  if val == 0:\n",
        "    print(\"You are happy KEEP SMILING ALWAYS\")\n",
        "  else:\n",
        "    print(\"You are not Happy, WISH TO SEE YOU SMILING\")"
      ],
      "execution_count": null,
      "outputs": []
    },
    {
      "cell_type": "code",
      "metadata": {
        "id": "JROE_8o5R-4H"
      },
      "source": [
        ""
      ],
      "execution_count": null,
      "outputs": []
    }
  ]
}